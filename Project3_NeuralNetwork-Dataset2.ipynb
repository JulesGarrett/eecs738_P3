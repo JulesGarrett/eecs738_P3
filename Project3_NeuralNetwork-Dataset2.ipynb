{
 "cells": [
  {
   "cell_type": "code",
   "execution_count": 1,
   "metadata": {},
   "outputs": [],
   "source": [
    "import numpy as np\n",
    "import pandas as pd"
   ]
  },
  {
   "cell_type": "code",
   "execution_count": 60,
   "metadata": {},
   "outputs": [],
   "source": [
    "##data preprocessing\n",
    "df=pd.read_csv('german.data', sep=' ',header=None)\n",
    "#need to change char indicators into number indicators\n",
    "unique = dict()\n",
    "for column in df:\n",
    "    unique[column] = list(set(df[column]))\n",
    "temp = dict()\n",
    "  \n",
    "#replace letters with a normalized number for the column\n",
    "for column in df:\n",
    "    c_list = []\n",
    "    for val in df[column].values:\n",
    "        if column == 21:\n",
    "            c_list.append(unique[column].index(val))\n",
    "        else:\n",
    "            c_list.append(unique[column].index(val)/len(unique[column]))\n",
    "    temp[column] = c_list\n",
    "n_df = pd.DataFrame(temp)\n",
    "##split data into train, validate, test\n",
    "# ~75% training, ~12.5% validate, ~12.5% test\n",
    "train_x = (n_df.iloc[:750, :-1]).values\n",
    "train_y = (n_df.iloc[:750, -1:]).values\n",
    "validate_x = (n_df.iloc[750:875,:-1 ]).values\n",
    "validate_y = (n_df.iloc[750:875, -1:]).values\n",
    "test_x = (n_df.iloc[ 875:,:-1]).values\n",
    "test_y = (n_df.iloc[875:, -1:]).values"
   ]
  },
  {
   "cell_type": "code",
   "execution_count": 61,
   "metadata": {},
   "outputs": [],
   "source": [
    "#sigmoid functions for activation function\n",
    "def sigmoid(x):\n",
    "    return 1/(1+np.exp(-x));\n",
    "\n",
    "def sigmoid_back(x):\n",
    "    sig = sigmoid(x);\n",
    "    return sig * (1.0 - sig);"
   ]
  },
  {
   "cell_type": "code",
   "execution_count": 62,
   "metadata": {},
   "outputs": [],
   "source": [
    "#create a nerual network class that has forward and backward functions\n",
    "class NN:\n",
    "    def __init__(self, x, y, rate):\n",
    "        self.input = x\n",
    "        self.weights1 = np.random.rand(self.input.shape[1], 4)\n",
    "        self.weights2 = np.random.rand(4,1)\n",
    "        self.y = y\n",
    "        self.output = np.zeros(self.y.shape)\n",
    "        self.LR = rate\n",
    "    def forward(self):\n",
    "        self.layer = sigmoid(np.dot(self.input, self.weights1))\n",
    "        self.output = sigmoid(np.dot(self.layer, self.weights2))\n",
    "        \n",
    "    def back(self):\n",
    "        d_w2 = np.dot(self.layer.T, (2*(self.y - self.output)* (self.LR*sigmoid_back(self.output))))\n",
    "        d_w1 = np.dot(self.input.T, (np.dot(2*(self.y -self.output)* (self.LR*sigmoid_back(self.output)), self.weights2.T)*sigmoid_back(self.layer)))\n",
    "        \n",
    "        self.weights1 += d_w1\n",
    "        self.weights2 += d_w2"
   ]
  },
  {
   "cell_type": "code",
   "execution_count": null,
   "metadata": {},
   "outputs": [],
   "source": []
  },
  {
   "cell_type": "code",
   "execution_count": 76,
   "metadata": {},
   "outputs": [
    {
     "name": "stdout",
     "output_type": "stream",
     "text": [
      "0.6973333333333334\n"
     ]
    }
   ],
   "source": [
    "##TRAINING\n",
    "#create neural network for training data\n",
    "nn = NN(train_x, train_y, 0.005)\n",
    "for i in range(5000):\n",
    "    nn.forward()\n",
    "    nn.back()\n",
    "#since output won't be exact allow >.9 to be 1\n",
    "# and allow <.1 to be 0\n",
    "factor_hi = .7\n",
    "factor_lo = .3\n",
    "count = 0\n",
    "for i in range(len(nn.output)):\n",
    "    if train_y[i][0] == 1 and nn.output[i][0] >= factor_hi:\n",
    "        count += 1\n",
    "    if train_y[i][0] == 0 and nn.output[i][0] < factor_lo:\n",
    "        count += 1\n",
    "print(count/len(nn.output))"
   ]
  },
  {
   "cell_type": "code",
   "execution_count": 85,
   "metadata": {},
   "outputs": [
    {
     "name": "stdout",
     "output_type": "stream",
     "text": [
      "0.6\n"
     ]
    }
   ],
   "source": [
    "##VALIDATE\n",
    "nn_v = NN(validate_x, validate_y, .005)\n",
    "for i in range(5000):\n",
    "    nn_v.forward()\n",
    "    nn_v.back()\n",
    "#since output won't be exact allow >.9 to be 1\n",
    "# and allow <.1 to be 0\n",
    "factor_hi = .7\n",
    "factor_lo = .3\n",
    "count = 0\n",
    "for i in range(len(nn_v.output)):\n",
    "    if train_y[i][0] == 1 and nn_v.output[i][0] >= factor_hi:\n",
    "        count += 1\n",
    "    if train_y[i][0] == 0 and nn_v.output[i][0] < factor_lo:\n",
    "        count += 1\n",
    "print(count/len(nn_v.output))"
   ]
  },
  {
   "cell_type": "code",
   "execution_count": 86,
   "metadata": {},
   "outputs": [
    {
     "name": "stdout",
     "output_type": "stream",
     "text": [
      "0.688\n"
     ]
    }
   ],
   "source": [
    "##TEST\n",
    "nn_t = NN(test_x, test_y, .005)\n",
    "for i in range(5000):\n",
    "    nn_t.forward()\n",
    "    nn_t.back()\n",
    "#since output won't be exact allow >.9 to be 1\n",
    "# and allow <.1 to be 0\n",
    "factor_hi = .7\n",
    "factor_lo = .3\n",
    "count = 0\n",
    "for i in range(len(nn_t.output)):\n",
    "    if train_y[i][0] == 1 and nn_t.output[i][0] >= factor_hi:\n",
    "        count += 1\n",
    "    if train_y[i][0] == 0 and nn_t.output[i][0] < factor_lo:\n",
    "        count += 1\n",
    "print(count/len(nn_t.output))"
   ]
  },
  {
   "cell_type": "code",
   "execution_count": null,
   "metadata": {},
   "outputs": [],
   "source": []
  }
 ],
 "metadata": {
  "kernelspec": {
   "display_name": "Python 3",
   "language": "python",
   "name": "python3"
  },
  "language_info": {
   "codemirror_mode": {
    "name": "ipython",
    "version": 3
   },
   "file_extension": ".py",
   "mimetype": "text/x-python",
   "name": "python",
   "nbconvert_exporter": "python",
   "pygments_lexer": "ipython3",
   "version": "3.7.1"
  }
 },
 "nbformat": 4,
 "nbformat_minor": 2
}
